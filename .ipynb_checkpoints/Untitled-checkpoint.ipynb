{
 "cells": [
  {
   "cell_type": "code",
   "execution_count": 9,
   "metadata": {},
   "outputs": [],
   "source": [
    "import numpy as np\n",
    "#import tensorflow as tf\n",
    "from keras.models import Sequential\n",
    "from keras.layers import Dense, Activation, Dropout\n",
    "from sklearn.model_selection import KFold"
   ]
  },
  {
   "cell_type": "code",
   "execution_count": 10,
   "metadata": {},
   "outputs": [],
   "source": [
    "data = np.loadtxt('training_data.txt', skiprows=1)\n",
    "y = data[:, 0]\n",
    "X = data[:, 1:]"
   ]
  },
  {
   "cell_type": "code",
   "execution_count": 36,
   "metadata": {},
   "outputs": [],
   "source": [
    "def build_model(dropout_prob=0.5):\n",
    "    model = Sequential()\n",
    "    model.add(Dense(500, activation='relu', input_dim=(1000)))\n",
    "    model.add(Dropout(dropout_prob))\n",
    "    model.add(Dense(250, activation='relu'))\n",
    "    model.add(Dropout(dropout_prob))\n",
    "    model.add(Dense(50, activation='relu'))\n",
    "    model.add(Dropout(dropout_prob))\n",
    "    model.add(Dense(1, activation='sigmoid'))\n",
    "    model.compile(optimizer='rmsprop',\n",
    "                  loss='binary_crossentropy',\n",
    "                  metrics=['accuracy'])\n",
    "    return model\n",
    "    \n",
    "def cross_validate(dropout_prob):\n",
    "    accuracies = []\n",
    "    print('Cross-validating with dropout_prob {}'.format(dropout_prob))\n",
    "    kf = KFold(n_splits=5, shuffle=True, random_state=0)\n",
    "    for ix, (train_index, test_index) in enumerate(kf.split(X)):\n",
    "        X_train, X_test = X[train_index,:], X[test_index,:]\n",
    "        y_train, y_test = y[train_index], y[test_index]\n",
    "        model = build_model(dropout_prob)\n",
    "        print('\\t\\ttraining fold {} with dropout_prob {}: '.format(ix, dropout_prob), end='', flush=True)\n",
    "        model.fit(X_train, y_train, epochs=20, batch_size=64, verbose=0)\n",
    "        score = model.evaluate(X_test, y_test, batch_size=64, verbose=0)\n",
    "        accuracies.append(score[1])\n",
    "        print('accuracy={}'.format(accuracies[-1]))\n",
    "    print('\\tAverage accuracy of {}'.format(sum(accuracies)/len(accuracies)))"
   ]
  },
  {
   "cell_type": "code",
   "execution_count": 25,
   "metadata": {},
   "outputs": [],
   "source": [
    "model = build_model(0.5)"
   ]
  },
  {
   "cell_type": "code",
   "execution_count": 26,
   "metadata": {},
   "outputs": [
    {
     "data": {
      "text/plain": [
       "['loss', 'acc']"
      ]
     },
     "execution_count": 26,
     "metadata": {},
     "output_type": "execute_result"
    }
   ],
   "source": [
    "model.metrics_names"
   ]
  },
  {
   "cell_type": "code",
   "execution_count": null,
   "metadata": {},
   "outputs": [
    {
     "name": "stdout",
     "output_type": "stream",
     "text": [
      "Cross-validating with dropout_prob 0.1\n",
      "\t\ttraining fold 0 with dropout_prob 0.1: accuracy=0.82875\n",
      "\t\ttraining fold 1 with dropout_prob 0.1: accuracy=0.83025\n",
      "\t\ttraining fold 2 with dropout_prob 0.1: accuracy=0.8295\n",
      "\t\ttraining fold 3 with dropout_prob 0.1: accuracy=0.828\n",
      "\t\ttraining fold 4 with dropout_prob 0.1: accuracy=0.832\n",
      "\tAverage accuracy of 0.8297000000000001\n",
      "Cross-validating with dropout_prob 0.2\n",
      "\t\ttraining fold 0 with dropout_prob 0.2: "
     ]
    }
   ],
   "source": [
    "for p in np.linspace(0, 1, 10, endpoint=False)[1:]: \n",
    "    cross_validate(p)"
   ]
  },
  {
   "cell_type": "code",
   "execution_count": null,
   "metadata": {},
   "outputs": [],
   "source": []
  }
 ],
 "metadata": {
  "kernelspec": {
   "display_name": "Python 3",
   "language": "python",
   "name": "python3"
  },
  "language_info": {
   "codemirror_mode": {
    "name": "ipython",
    "version": 3
   },
   "file_extension": ".py",
   "mimetype": "text/x-python",
   "name": "python",
   "nbconvert_exporter": "python",
   "pygments_lexer": "ipython3",
   "version": "3.5.4"
  }
 },
 "nbformat": 4,
 "nbformat_minor": 2
}
