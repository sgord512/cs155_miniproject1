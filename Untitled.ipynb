{
 "cells": [
  {
   "cell_type": "code",
   "execution_count": 1,
   "metadata": {
    "collapsed": false
   },
   "outputs": [
    {
     "name": "stderr",
     "output_type": "stream",
     "text": [
      "Using TensorFlow backend.\n",
      "/Users/spencergordon/anaconda/envs/tensorflow/lib/python3.5/importlib/_bootstrap.py:222: RuntimeWarning: compiletime version 3.6 of module 'tensorflow.python.framework.fast_tensor_util' does not match runtime version 3.5\n",
      "  return f(*args, **kwds)\n"
     ]
    }
   ],
   "source": [
    "import numpy as np\n",
    "#import tensorflow as tf\n",
    "from keras.models import Sequential\n",
    "from keras.layers import Dense, Activation, Dropout\n",
    "from sklearn.model_selection import KFold"
   ]
  },
  {
   "cell_type": "code",
   "execution_count": 2,
   "metadata": {
    "collapsed": true
   },
   "outputs": [],
   "source": [
    "data = np.loadtxt('training_data.txt', skiprows=1)\n",
    "y = data[:, 0]\n",
    "X = data[:, 1:]"
   ]
  },
  {
   "cell_type": "code",
   "execution_count": 37,
   "metadata": {
    "collapsed": true
   },
   "outputs": [],
   "source": [
    "def build_model(dropout_prob=0.5):\n",
    "    model = Sequential()\n",
    "    model.add(Dense(1000, activation='relu', input_dim=(1000)))\n",
    "    model.add(Dropout(dropout_prob))\n",
    "    model.add(Dense(250, activation='relu'))\n",
    "    model.add(Dropout(dropout_prob))\n",
    "    model.add(Dense(50, activation='relu'))\n",
    "    model.add(Dropout(dropout_prob))\n",
    "    model.add(Dense(1, activation='sigmoid'))\n",
    "    model.compile(optimizer='rmsprop',\n",
    "                  loss='binary_crossentropy',\n",
    "                  metrics=['accuracy'])\n",
    "    return model\n",
    "    \n",
    "def cross_validate(dropout_prob):\n",
    "    accuracies = []\n",
    "    print('Cross-validating with dropout_prob {}'.format(dropout_prob))\n",
    "    kf = KFold(n_splits=5, shuffle=True, random_state=0)\n",
    "    for ix, (train_index, test_index) in enumerate(kf.split(X)):\n",
    "        X_train, X_test = X[train_index,:], X[test_index,:]\n",
    "        y_train, y_test = y[train_index], y[test_index]\n",
    "        model = build_model(dropout_prob)\n",
    "        print('\\t\\ttraining fold {} with dropout_prob {}: '.format(ix, dropout_prob), end='', flush=True)\n",
    "        model.fit(X_train, y_train, epochs=20, batch_size=64, verbose=0)\n",
    "        score = model.evaluate(X_test, y_test, batch_size=64, verbose=0)\n",
    "        accuracies.append(score[1])\n",
    "        print('accuracy={}'.format(accuracies[-1]))\n",
    "    print('\\tAverage accuracy of {}'.format(sum(accuracies)/len(accuracies)))"
   ]
  },
  {
   "cell_type": "code",
   "execution_count": 25,
   "metadata": {
    "collapsed": true
   },
   "outputs": [],
   "source": [
    "model = build_model(0.5)"
   ]
  },
  {
   "cell_type": "code",
   "execution_count": 26,
   "metadata": {
    "collapsed": false
   },
   "outputs": [
    {
     "data": {
      "text/plain": [
       "['loss', 'acc']"
      ]
     },
     "execution_count": 26,
     "metadata": {},
     "output_type": "execute_result"
    }
   ],
   "source": [
    "model.metrics_names"
   ]
  },
  {
   "cell_type": "code",
   "execution_count": 37,
   "metadata": {
    "collapsed": false
   },
   "outputs": [
    {
     "name": "stdout",
     "output_type": "stream",
     "text": [
      "Cross-validating with dropout_prob 0.1\n",
      "\t\ttraining fold 0 with dropout_prob 0.1: accuracy=0.82875\n",
      "\t\ttraining fold 1 with dropout_prob 0.1: accuracy=0.83025\n",
      "\t\ttraining fold 2 with dropout_prob 0.1: accuracy=0.8295\n",
      "\t\ttraining fold 3 with dropout_prob 0.1: accuracy=0.828\n",
      "\t\ttraining fold 4 with dropout_prob 0.1: accuracy=0.832\n",
      "\tAverage accuracy of 0.8297000000000001\n",
      "Cross-validating with dropout_prob 0.2\n",
      "\t\ttraining fold 0 with dropout_prob 0.2: accuracy=0.83225\n",
      "\t\ttraining fold 1 with dropout_prob 0.2: accuracy=0.837\n",
      "\t\ttraining fold 2 with dropout_prob 0.2: accuracy=0.8365\n",
      "\t\ttraining fold 3 with dropout_prob 0.2: accuracy=0.838\n",
      "\t\ttraining fold 4 with dropout_prob 0.2: accuracy=0.82375\n",
      "\tAverage accuracy of 0.8335000000000001\n",
      "Cross-validating with dropout_prob 0.30000000000000004\n",
      "\t\ttraining fold 0 with dropout_prob 0.30000000000000004: accuracy=0.83475\n",
      "\t\ttraining fold 1 with dropout_prob 0.30000000000000004: accuracy=0.827\n",
      "\t\ttraining fold 2 with dropout_prob 0.30000000000000004: accuracy=0.8375\n",
      "\t\ttraining fold 3 with dropout_prob 0.30000000000000004: accuracy=0.83775\n",
      "\t\ttraining fold 4 with dropout_prob 0.30000000000000004: accuracy=0.83975\n",
      "\tAverage accuracy of 0.83535\n",
      "Cross-validating with dropout_prob 0.4\n",
      "\t\ttraining fold 0 with dropout_prob 0.4: accuracy=0.845\n",
      "\t\ttraining fold 1 with dropout_prob 0.4: accuracy=0.83325\n",
      "\t\ttraining fold 2 with dropout_prob 0.4: accuracy=0.838\n",
      "\t\ttraining fold 3 with dropout_prob 0.4: accuracy=0.84325\n",
      "\t\ttraining fold 4 with dropout_prob 0.4: accuracy=0.83075\n",
      "\tAverage accuracy of 0.83805\n",
      "Cross-validating with dropout_prob 0.5\n",
      "\t\ttraining fold 0 with dropout_prob 0.5: accuracy=0.83525\n",
      "\t\ttraining fold 1 with dropout_prob 0.5: accuracy=0.84125\n",
      "\t\ttraining fold 2 with dropout_prob 0.5: accuracy=0.8435\n",
      "\t\ttraining fold 3 with dropout_prob 0.5: accuracy=0.84075\n",
      "\t\ttraining fold 4 with dropout_prob 0.5: accuracy=0.83525\n",
      "\tAverage accuracy of 0.8392\n",
      "Cross-validating with dropout_prob 0.6000000000000001\n",
      "\t\ttraining fold 0 with dropout_prob 0.6000000000000001: accuracy=0.84125\n",
      "\t\ttraining fold 1 with dropout_prob 0.6000000000000001: accuracy=0.84325\n",
      "\t\ttraining fold 2 with dropout_prob 0.6000000000000001: accuracy=0.84675\n",
      "\t\ttraining fold 3 with dropout_prob 0.6000000000000001: accuracy=0.849\n",
      "\t\ttraining fold 4 with dropout_prob 0.6000000000000001: accuracy=0.843\n",
      "\tAverage accuracy of 0.84465\n",
      "Cross-validating with dropout_prob 0.7000000000000001\n",
      "\t\ttraining fold 0 with dropout_prob 0.7000000000000001: accuracy=0.84825\n",
      "\t\ttraining fold 1 with dropout_prob 0.7000000000000001: accuracy=0.848\n",
      "\t\ttraining fold 2 with dropout_prob 0.7000000000000001: accuracy=0.8535\n",
      "\t\ttraining fold 3 with dropout_prob 0.7000000000000001: accuracy=0.85275\n",
      "\t\ttraining fold 4 with dropout_prob 0.7000000000000001: accuracy=0.849\n",
      "\tAverage accuracy of 0.8503000000000001\n",
      "Cross-validating with dropout_prob 0.8\n",
      "\t\ttraining fold 0 with dropout_prob 0.8: accuracy=0.853\n",
      "\t\ttraining fold 1 with dropout_prob 0.8: accuracy=0.84725\n",
      "\t\ttraining fold 2 with dropout_prob 0.8: accuracy=0.85\n",
      "\t\ttraining fold 3 with dropout_prob 0.8: accuracy=0.85475\n",
      "\t\ttraining fold 4 with dropout_prob 0.8: accuracy=0.84325\n",
      "\tAverage accuracy of 0.8496500000000001\n",
      "Cross-validating with dropout_prob 0.9\n",
      "\t\ttraining fold 0 with dropout_prob 0.9: accuracy=0.79075\n",
      "\t\ttraining fold 1 with dropout_prob 0.9: accuracy=0.78225\n",
      "\t\ttraining fold 2 with dropout_prob 0.9: accuracy=0.79075\n",
      "\t\ttraining fold 3 with dropout_prob 0.9: accuracy=0.783\n",
      "\t\ttraining fold 4 with dropout_prob 0.9: accuracy=0.78525\n",
      "\tAverage accuracy of 0.7864\n"
     ]
    }
   ],
   "source": [
    "for p in np.linspace(0, 1, 10, endpoint=False)[1:]: \n",
    "    cross_validate(p)"
   ]
  },
  {
   "cell_type": "code",
   "execution_count": 43,
   "metadata": {
    "collapsed": false
   },
   "outputs": [
    {
     "name": "stdout",
     "output_type": "stream",
     "text": [
      "1000/1000 [==============================] - 0s 381us/step\n",
      "Num epochs: 1 Accuracy: 0.843\n",
      "1000/1000 [==============================] - 0s 142us/step\n",
      "Num epochs: 2 Accuracy: 0.857\n",
      "1000/1000 [==============================] - 0s 117us/step\n",
      "Num epochs: 3 Accuracy: 0.855\n",
      "1000/1000 [==============================] - 0s 161us/step\n",
      "Num epochs: 4 Accuracy: 0.857\n",
      "1000/1000 [==============================] - 0s 138us/step\n",
      "Num epochs: 5 Accuracy: 0.854\n",
      "1000/1000 [==============================] - 0s 138us/step\n",
      "Num epochs: 6 Final Accuracy: 0.86\n"
     ]
    }
   ],
   "source": [
    "model = build_model(0.7)\n",
    "prev_acc = 0\n",
    "num_epochs = 0\n",
    "while True:\n",
    "    model.fit(X[:19000,:], y[:19000], batch_size=64, epochs=1, verbose=0)\n",
    "    num_epochs += 1\n",
    "    score = model.evaluate(X[19000:,:], y[19000:])\n",
    "    acc = score[1]\n",
    "    if acc >= .858:\n",
    "        break\n",
    "    prev_acc = acc\n",
    "    print(\"Num epochs:\", num_epochs, \"Accuracy:\", acc)\n",
    "print(\"Num epochs:\", num_epochs, \"Final Accuracy:\", acc)"
   ]
  },
  {
   "cell_type": "code",
   "execution_count": 6,
   "metadata": {
    "collapsed": true
   },
   "outputs": [],
   "source": [
    "test_data = np.loadtxt('test_data.txt', skiprows=1)"
   ]
  },
  {
   "cell_type": "code",
   "execution_count": 44,
   "metadata": {
    "collapsed": false
   },
   "outputs": [
    {
     "name": "stdout",
     "output_type": "stream",
     "text": [
      "Epoch 1/6\n",
      "20000/20000 [==============================] - 6s 284us/step - loss: 0.3398 - acc: 0.8783\n",
      "Epoch 2/6\n",
      "20000/20000 [==============================] - 6s 279us/step - loss: 0.3405 - acc: 0.8806\n",
      "Epoch 3/6\n",
      "20000/20000 [==============================] - 5s 274us/step - loss: 0.3337 - acc: 0.8850\n",
      "Epoch 4/6\n",
      "20000/20000 [==============================] - 6s 277us/step - loss: 0.3379 - acc: 0.8828\n",
      "Epoch 5/6\n",
      "20000/20000 [==============================] - 5s 275us/step - loss: 0.3395 - acc: 0.8845\n",
      "Epoch 6/6\n",
      "20000/20000 [==============================] - 6s 276us/step - loss: 0.3373 - acc: 0.8874\n"
     ]
    },
    {
     "data": {
      "text/plain": [
       "<keras.callbacks.History at 0x1a2171c940>"
      ]
     },
     "execution_count": 44,
     "metadata": {},
     "output_type": "execute_result"
    }
   ],
   "source": [
    "model.fit(X, y, batch_size=64, epochs=6)"
   ]
  },
  {
   "cell_type": "code",
   "execution_count": 45,
   "metadata": {
    "collapsed": false
   },
   "outputs": [],
   "source": [
    "#model = build_model(0.7)\n",
    "#model.fit(X, y, batch_size=64, epochs=20)\n",
    "pred_y = model.predict(test_data)"
   ]
  },
  {
   "cell_type": "code",
   "execution_count": 11,
   "metadata": {
    "collapsed": false
   },
   "outputs": [
    {
     "data": {
      "text/plain": [
       "array([[0],\n",
       "       [0],\n",
       "       [0],\n",
       "       ...,\n",
       "       [0],\n",
       "       [0],\n",
       "       [0]])"
      ]
     },
     "execution_count": 11,
     "metadata": {},
     "output_type": "execute_result"
    }
   ],
   "source": []
  },
  {
   "cell_type": "code",
   "execution_count": 46,
   "metadata": {
    "collapsed": true
   },
   "outputs": [],
   "source": [
    "output_array = np.column_stack((np.linspace(1, len(pred_y),len(pred_y)),pred_y))\n",
    "import time\n",
    "t=time.localtime()\n",
    "timestamp=time.strftime('%Y%m%d_%H%M%S',t)\n",
    "filename='submission_'+timestamp+'.txt'\n",
    "np.savetxt(filename,output_array.round(),fmt='%i',delimiter=',',header='Id,Prediction')"
   ]
  },
  {
   "cell_type": "code",
   "execution_count": 24,
   "metadata": {
    "collapsed": false
   },
   "outputs": [
    {
     "data": {
      "text/plain": [
       "array([[1.000e+00, 1.000e+00],\n",
       "       [2.000e+00, 1.000e+00],\n",
       "       [3.000e+00, 0.000e+00],\n",
       "       ...,\n",
       "       [9.998e+03, 0.000e+00],\n",
       "       [9.999e+03, 1.000e+00],\n",
       "       [1.000e+04, 0.000e+00]])"
      ]
     },
     "execution_count": 24,
     "metadata": {},
     "output_type": "execute_result"
    }
   ],
   "source": [
    "output_array.round()"
   ]
  },
  {
   "cell_type": "code",
   "execution_count": null,
   "metadata": {
    "collapsed": true
   },
   "outputs": [],
   "source": []
  }
 ],
 "metadata": {
  "anaconda-cloud": {},
  "kernelspec": {
   "display_name": "Python [conda env:tensorflow]",
   "language": "python",
   "name": "conda-env-tensorflow-py"
  },
  "language_info": {
   "codemirror_mode": {
    "name": "ipython",
    "version": 3
   },
   "file_extension": ".py",
   "mimetype": "text/x-python",
   "name": "python",
   "nbconvert_exporter": "python",
   "pygments_lexer": "ipython3",
   "version": "3.5.4"
  }
 },
 "nbformat": 4,
 "nbformat_minor": 2
}
